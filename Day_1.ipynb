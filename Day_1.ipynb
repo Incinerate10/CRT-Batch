{
  "nbformat": 4,
  "nbformat_minor": 0,
  "metadata": {
    "colab": {
      "name": "Day 1",
      "provenance": [],
      "collapsed_sections": [],
      "include_colab_link": true
    },
    "kernelspec": {
      "name": "python3",
      "display_name": "Python 3"
    }
  },
  "cells": [
    {
      "cell_type": "markdown",
      "metadata": {
        "id": "view-in-github",
        "colab_type": "text"
      },
      "source": [
        "<a href=\"https://colab.research.google.com/github/Incinerate10/CRT-Batch/blob/master/Day_1.ipynb\" target=\"_parent\"><img src=\"https://colab.research.google.com/assets/colab-badge.svg\" alt=\"Open In Colab\"/></a>"
      ]
    },
    {
      "cell_type": "code",
      "metadata": {
        "id": "qrSFnSAvFyyC",
        "colab_type": "code",
        "outputId": "775a5b88-0a4a-4de7-987d-6912773375d4",
        "colab": {
          "base_uri": "https://localhost:8080/",
          "height": 34
        }
      },
      "source": [
        "print(\"Hello World\")"
      ],
      "execution_count": 0,
      "outputs": [
        {
          "output_type": "stream",
          "text": [
            "Hello World\n"
          ],
          "name": "stdout"
        }
      ]
    },
    {
      "cell_type": "code",
      "metadata": {
        "id": "2m9bcsBzF1uP",
        "colab_type": "code",
        "outputId": "aff9e391-eaaf-4654-d4b0-c318162be2bb",
        "colab": {
          "base_uri": "https://localhost:8080/",
          "height": 34
        }
      },
      "source": [
        "print(\"Hello World\",end=\"@\")"
      ],
      "execution_count": 0,
      "outputs": [
        {
          "output_type": "stream",
          "text": [
            "Hello World@"
          ],
          "name": "stdout"
        }
      ]
    },
    {
      "cell_type": "code",
      "metadata": {
        "id": "tW6SDBFnF7ak",
        "colab_type": "code",
        "outputId": "178f9f3c-8571-4bce-91cf-a44643bdc4da",
        "colab": {
          "base_uri": "https://localhost:8080/",
          "height": 50
        }
      },
      "source": [
        "print(\"Hello World\",end=\"@\")\n",
        "print(\"Hello World\",end=\"\\n\")\n",
        "print(\"Hello World\",end=\" \")"
      ],
      "execution_count": 0,
      "outputs": [
        {
          "output_type": "stream",
          "text": [
            "Hello World@Hello World\n",
            "Hello World "
          ],
          "name": "stdout"
        }
      ]
    },
    {
      "cell_type": "markdown",
      "metadata": {
        "id": "4qxUboMuGfgE",
        "colab_type": "text"
      },
      "source": [
        "#Variable\n",
        "##also called as identifiers\n",
        "####to store some value by allocating some memory"
      ]
    },
    {
      "cell_type": "code",
      "metadata": {
        "id": "2Ra2-AX2GahB",
        "colab_type": "code",
        "outputId": "75f6f23e-d2b9-421f-f6ec-6ccdd75fcebe",
        "colab": {
          "base_uri": "https://localhost:8080/",
          "height": 34
        }
      },
      "source": [
        "a = 10\n",
        "a\n",
        "a*2"
      ],
      "execution_count": 0,
      "outputs": [
        {
          "output_type": "execute_result",
          "data": {
            "text/plain": [
              "20"
            ]
          },
          "metadata": {
            "tags": []
          },
          "execution_count": 16
        }
      ]
    },
    {
      "cell_type": "code",
      "metadata": {
        "id": "2sDvbkxXHGOU",
        "colab_type": "code",
        "outputId": "6c0b1b03-c666-4438-e8d5-dfbb3f3fa9f1",
        "colab": {
          "base_uri": "https://localhost:8080/",
          "height": 34
        }
      },
      "source": [
        "name=\"Gitam\"\n",
        "address=\"Hyd\"\n",
        "a=10\n",
        "print(\"University name\",name,\"Place\",address,a)"
      ],
      "execution_count": 0,
      "outputs": [
        {
          "output_type": "stream",
          "text": [
            "University name Gitam Place Hyd 10\n"
          ],
          "name": "stdout"
        }
      ]
    },
    {
      "cell_type": "code",
      "metadata": {
        "id": "S9cjVw47KdOb",
        "colab_type": "code",
        "outputId": "0bd8cfb8-27c7-4a0a-bd62-c7e5c4b364dc",
        "colab": {
          "base_uri": "https://localhost:8080/",
          "height": 50
        }
      },
      "source": [
        "a=input(\"Enter your name\")    \n",
        "a\n",
        "type(a)"
      ],
      "execution_count": 0,
      "outputs": [
        {
          "output_type": "stream",
          "text": [
            "Enter your name123\n"
          ],
          "name": "stdout"
        },
        {
          "output_type": "execute_result",
          "data": {
            "text/plain": [
              "str"
            ]
          },
          "metadata": {
            "tags": []
          },
          "execution_count": 29
        }
      ]
    },
    {
      "cell_type": "code",
      "metadata": {
        "id": "0fja9KBGLIVX",
        "colab_type": "code",
        "outputId": "c1d7512d-7e7f-4961-d9f2-b34132bb5a2b",
        "colab": {
          "base_uri": "https://localhost:8080/",
          "height": 50
        }
      },
      "source": [
        "a=int(input(\"enter a value\"))\n",
        "type(a)"
      ],
      "execution_count": 0,
      "outputs": [
        {
          "output_type": "stream",
          "text": [
            "enter a value12311\n"
          ],
          "name": "stdout"
        },
        {
          "output_type": "execute_result",
          "data": {
            "text/plain": [
              "int"
            ]
          },
          "metadata": {
            "tags": []
          },
          "execution_count": 30
        }
      ]
    },
    {
      "cell_type": "code",
      "metadata": {
        "id": "ruyYSVuHLyND",
        "colab_type": "code",
        "outputId": "a4c97a11-ce7b-435d-97a1-7eb9f88b570b",
        "colab": {
          "base_uri": "https://localhost:8080/",
          "height": 50
        }
      },
      "source": [
        "a=input(\"enter a string:\")\n",
        "a[0:5:2]"
      ],
      "execution_count": 0,
      "outputs": [
        {
          "output_type": "stream",
          "text": [
            "enter a string:ananth\n"
          ],
          "name": "stdout"
        },
        {
          "output_type": "execute_result",
          "data": {
            "text/plain": [
              "'aat'"
            ]
          },
          "metadata": {
            "tags": []
          },
          "execution_count": 33
        }
      ]
    },
    {
      "cell_type": "code",
      "metadata": {
        "id": "Xg9tjQQdNRmK",
        "colab_type": "code",
        "outputId": "e19a08e3-b80d-4f24-a938-fdb5b326b644",
        "colab": {
          "base_uri": "https://localhost:8080/",
          "height": 34
        }
      },
      "source": [
        "a=3+6j\n",
        "type(a)"
      ],
      "execution_count": 0,
      "outputs": [
        {
          "output_type": "execute_result",
          "data": {
            "text/plain": [
              "complex"
            ]
          },
          "metadata": {
            "tags": []
          },
          "execution_count": 41
        }
      ]
    },
    {
      "cell_type": "code",
      "metadata": {
        "id": "89Nn9hj-N5Ts",
        "colab_type": "code",
        "outputId": "dab77860-fd7c-4b43-863b-05b617f0fea7",
        "colab": {
          "base_uri": "https://localhost:8080/",
          "height": 50
        }
      },
      "source": [
        "a=bool(input(\"enter:\"))\n",
        "type(a)"
      ],
      "execution_count": 0,
      "outputs": [
        {
          "output_type": "stream",
          "text": [
            "enter:True\n"
          ],
          "name": "stdout"
        },
        {
          "output_type": "execute_result",
          "data": {
            "text/plain": [
              "bool"
            ]
          },
          "metadata": {
            "tags": []
          },
          "execution_count": 44
        }
      ]
    },
    {
      "cell_type": "code",
      "metadata": {
        "id": "bLfnNjGEPHV7",
        "colab_type": "code",
        "colab": {}
      },
      "source": [
        ""
      ],
      "execution_count": 0,
      "outputs": []
    },
    {
      "cell_type": "markdown",
      "metadata": {
        "id": "matkhEtOPUZs",
        "colab_type": "text"
      },
      "source": [
        "#numeric\n",
        "#lists\n",
        "#tuples\n",
        "#dictionaries\n",
        "#sets\n"
      ]
    },
    {
      "cell_type": "code",
      "metadata": {
        "id": "px7nLGthPqIp",
        "colab_type": "code",
        "outputId": "62972d5d-2b22-4901-8cc6-874df3b4103b",
        "colab": {
          "base_uri": "https://localhost:8080/",
          "height": 34
        }
      },
      "source": [
        "a={\"name\":\"ajsiohasf\",\"pin\":55446}\n",
        "type(a)"
      ],
      "execution_count": 0,
      "outputs": [
        {
          "output_type": "execute_result",
          "data": {
            "text/plain": [
              "dict"
            ]
          },
          "metadata": {
            "tags": []
          },
          "execution_count": 62
        }
      ]
    },
    {
      "cell_type": "code",
      "metadata": {
        "id": "b6FOvuM8RF3l",
        "colab_type": "code",
        "outputId": "ca4a3e5b-cfc1-4dcf-9c46-98c470183b05",
        "colab": {
          "base_uri": "https://localhost:8080/",
          "height": 50
        }
      },
      "source": [
        "a=input(\"enter:\")\n",
        "b=a[::-1]\n",
        "if(a==b):\n",
        "  print(\"Palindrome\")\n",
        "else:\n",
        "  print(\"not palindrome\")"
      ],
      "execution_count": 0,
      "outputs": [
        {
          "output_type": "stream",
          "text": [
            "enter:121\n",
            "Palindrome\n"
          ],
          "name": "stdout"
        }
      ]
    },
    {
      "cell_type": "code",
      "metadata": {
        "id": "jK9hYzePTPq5",
        "colab_type": "code",
        "outputId": "d378184a-fb99-413b-c62a-74c3c8f65226",
        "colab": {
          "base_uri": "https://localhost:8080/",
          "height": 34
        }
      },
      "source": [
        "a=2\n",
        "b=3\n",
        "a,b=b,a\n",
        "print(a,b)"
      ],
      "execution_count": 0,
      "outputs": [
        {
          "output_type": "stream",
          "text": [
            "3 2\n"
          ],
          "name": "stdout"
        }
      ]
    },
    {
      "cell_type": "code",
      "metadata": {
        "id": "2A9E8IA2UbBS",
        "colab_type": "code",
        "outputId": "029e499b-edeb-4a55-df4b-3a64dafeee4c",
        "colab": {
          "base_uri": "https://localhost:8080/",
          "height": 50
        }
      },
      "source": [
        "l=[1,2,3]\n",
        "for i in range(1,10,5):\n",
        "  print(i)"
      ],
      "execution_count": 0,
      "outputs": [
        {
          "output_type": "stream",
          "text": [
            "1\n",
            "6\n"
          ],
          "name": "stdout"
        }
      ]
    },
    {
      "cell_type": "code",
      "metadata": {
        "id": "yPSkxnhrVn_8",
        "colab_type": "code",
        "outputId": "df9f15cd-e9d3-41ef-a5fe-6df68735c24c",
        "colab": {
          "base_uri": "https://localhost:8080/",
          "height": 34
        }
      },
      "source": [
        "def ananth(n):\n",
        "  return \"I'm MABBU\"\n",
        "\n",
        "print(ananth(5))\n"
      ],
      "execution_count": 0,
      "outputs": [
        {
          "output_type": "stream",
          "text": [
            "I'm MABBU\n"
          ],
          "name": "stdout"
        }
      ]
    },
    {
      "cell_type": "code",
      "metadata": {
        "id": "oJVMqsXjatTI",
        "colab_type": "code",
        "outputId": "6c66ff2c-9aec-4a55-8d9a-8d155e815263",
        "colab": {
          "base_uri": "https://localhost:8080/",
          "height": 50
        }
      },
      "source": [
        "#divisibility by 3 and 5\n",
        "a=int(input(\"enter a number:\"))\n",
        "if(a%3==0 and a%5==0):\n",
        "  print(\"it is divisible by 3 and 5\")\n",
        "else:\n",
        "  print(\"it is not divisible by 3 and 5\")\n",
        "  "
      ],
      "execution_count": 0,
      "outputs": [
        {
          "output_type": "stream",
          "text": [
            "enter a number:15\n",
            "it is divisible by 3 and 5\n"
          ],
          "name": "stdout"
        }
      ]
    },
    {
      "cell_type": "code",
      "metadata": {
        "id": "_w8i1Q-yhB8q",
        "colab_type": "code",
        "outputId": "5185e4f5-0e2e-4a0a-9c4a-2d25091b6c65",
        "colab": {
          "base_uri": "https://localhost:8080/",
          "height": 50
        }
      },
      "source": [
        "a,b,c=input(\"enter 3 numbers:\").split()\n",
        "a=int(a)\n",
        "b=int(b)\n",
        "c=int(c)\n",
        "if(a>b and a>c):\n",
        "  print(a,\" is greater\")\n",
        "elif(b>a and b>c):\n",
        "  print(b,\" is greater\")\n",
        "else:\n",
        "  print(c,\" is greater\")"
      ],
      "execution_count": 0,
      "outputs": [
        {
          "output_type": "stream",
          "text": [
            "enter 3 numbers:10 20 30\n",
            "30  is greater\n"
          ],
          "name": "stdout"
        }
      ]
    },
    {
      "cell_type": "code",
      "metadata": {
        "id": "Xpc86FF9jrLi",
        "colab_type": "code",
        "colab": {}
      },
      "source": [
        "a=int(input(\"enter a year\"))\n",
        "if(a%4==0 and a%100!=0):\n",
        "  print(\"it is a leap year\")\n",
        "elif(a%400==0):\n",
        "  print(\"it is a leap year\")\n",
        "else:\n",
        "  print(\"it is not a leap year\")"
      ],
      "execution_count": 0,
      "outputs": []
    }
  ]
}