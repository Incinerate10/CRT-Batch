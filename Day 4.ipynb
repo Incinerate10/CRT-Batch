{
 "cells": [
  {
   "cell_type": "code",
   "execution_count": 1,
   "metadata": {},
   "outputs": [
    {
     "name": "stdout",
     "output_type": "stream",
     "text": [
      "PYTHON\n",
      "python\n"
     ]
    }
   ],
   "source": [
    "s=\"Python\"\n",
    "print(s.upper()) #convert string to uppercase\n",
    "print(s.lower()) #convert string to lowercase"
   ]
  },
  {
   "cell_type": "code",
   "execution_count": 2,
   "metadata": {},
   "outputs": [
    {
     "name": "stdout",
     "output_type": "stream",
     "text": [
      "Python\n",
      "False\n"
     ]
    }
   ],
   "source": [
    "#String Boolean Methods\n",
    "print(s)\n",
    "print(s.islower())"
   ]
  },
  {
   "cell_type": "code",
   "execution_count": 3,
   "metadata": {},
   "outputs": [
    {
     "name": "stdout",
     "output_type": "stream",
     "text": [
      "False\n"
     ]
    }
   ],
   "source": [
    "print(s.isupper())"
   ]
  },
  {
   "cell_type": "code",
   "execution_count": 7,
   "metadata": {},
   "outputs": [
    {
     "name": "stdout",
     "output_type": "stream",
     "text": [
      "Python\n",
      "True\n"
     ]
    }
   ],
   "source": [
    "print(s)\n",
    "print(s.istitle())"
   ]
  },
  {
   "cell_type": "code",
   "execution_count": 10,
   "metadata": {},
   "outputs": [
    {
     "name": "stdout",
     "output_type": "stream",
     "text": [
      "False\n",
      "False\n"
     ]
    }
   ],
   "source": [
    "s1=\"PYTHON\"\n",
    "s2=\"python\"\n",
    "print(s1.istitle())\n",
    "print(s2.istitle())"
   ]
  },
  {
   "cell_type": "code",
   "execution_count": 22,
   "metadata": {},
   "outputs": [
    {
     "name": "stdout",
     "output_type": "stream",
     "text": [
      "False\n",
      "True\n",
      "True\n",
      "False\n"
     ]
    }
   ],
   "source": [
    "s1=\"Pyth\"\n",
    "s2=\"456465\"\n",
    "print(s1.isnumeric())\n",
    "print(s2.isnumeric())\n",
    "print(s1.isalpha())\n",
    "print(s2.isalpha())"
   ]
  },
  {
   "cell_type": "code",
   "execution_count": 20,
   "metadata": {},
   "outputs": [
    {
     "name": "stdout",
     "output_type": "stream",
     "text": [
      "False\n",
      "True\n"
     ]
    }
   ],
   "source": [
    "#isspace()\n",
    "s1=\"python 123\"\n",
    "s2=\" \"\n",
    "print(s1.isspace())\n",
    "print(s2.isspace())"
   ]
  },
  {
   "cell_type": "code",
   "execution_count": 41,
   "metadata": {},
   "outputs": [
    {
     "name": "stdout",
     "output_type": "stream",
     "text": [
      "enter n value:18976\n",
      "[1, 8, 9, 7, 6]\n"
     ]
    }
   ],
   "source": [
    "#Function to convert digit in a number to list\n",
    "#Input: 18976\n",
    "#Output: [1,8,9,7,6]\n",
    "def convert(n):\n",
    "    l=[]\n",
    "    for i in n:\n",
    "        l.append(int(i))\n",
    "    print(l)\n",
    "n=input(\"enter n value:\")\n",
    "convert(n)"
   ]
  },
  {
   "cell_type": "code",
   "execution_count": 42,
   "metadata": {},
   "outputs": [
    {
     "name": "stdout",
     "output_type": "stream",
     "text": [
      "enter a number:18976\n"
     ]
    },
    {
     "ename": "TypeError",
     "evalue": "map() takes no keyword arguments",
     "output_type": "error",
     "traceback": [
      "\u001b[1;31m---------------------------------------------------------------------------\u001b[0m",
      "\u001b[1;31mTypeError\u001b[0m                                 Traceback (most recent call last)",
      "\u001b[1;32m<ipython-input-42-5e621d01bee5>\u001b[0m in \u001b[0;36m<module>\u001b[1;34m\u001b[0m\n\u001b[1;32m----> 1\u001b[1;33m \u001b[0ml\u001b[0m\u001b[1;33m=\u001b[0m\u001b[0mlist\u001b[0m\u001b[1;33m(\u001b[0m\u001b[0mmap\u001b[0m\u001b[1;33m(\u001b[0m\u001b[0mint\u001b[0m\u001b[1;33m,\u001b[0m\u001b[0mn\u001b[0m\u001b[1;33m=\u001b[0m\u001b[0minput\u001b[0m\u001b[1;33m(\u001b[0m\u001b[1;34m\"enter a number:\"\u001b[0m\u001b[1;33m)\u001b[0m\u001b[1;33m)\u001b[0m\u001b[1;33m)\u001b[0m\u001b[1;33m\u001b[0m\u001b[1;33m\u001b[0m\u001b[0m\n\u001b[0m\u001b[0;32m      2\u001b[0m \u001b[0ml\u001b[0m\u001b[1;33m\u001b[0m\u001b[1;33m\u001b[0m\u001b[0m\n",
      "\u001b[1;31mTypeError\u001b[0m: map() takes no keyword arguments"
     ]
    }
   ],
   "source": [
    "n=input(\"enter a number:\")\n",
    "l=list(map(int,n))\n",
    "l"
   ]
  },
  {
   "cell_type": "code",
   "execution_count": 56,
   "metadata": {},
   "outputs": [
    {
     "name": "stdout",
     "output_type": "stream",
     "text": [
      "enter a number:4\n",
      "1 2 4\n"
     ]
    }
   ],
   "source": [
    "#print the factors a givrn no.\n",
    "def factors(n):\n",
    "    print(\"1\",end=\" \")\n",
    "    for i in range(2,n):\n",
    "        if(n%i==0):\n",
    "            print(i,end=\" \")\n",
    "    print(n)\n",
    "\n",
    "factors(n=int(input(\"enter a number:\")))"
   ]
  },
  {
   "cell_type": "code",
   "execution_count": 60,
   "metadata": {},
   "outputs": [
    {
     "name": "stdout",
     "output_type": "stream",
     "text": [
      "500\n",
      "520\n",
      "500 502 504 506 508 510 512 514 516 518 520 "
     ]
    }
   ],
   "source": [
    "#Input:500 520\n",
    "#ouput:500,502,504.......520\n",
    "def print_range(x,y):\n",
    "    for i in range(x,y+1,2):\n",
    "        print(i,end=\" \")\n",
    "print_range(int(input()),int(input()))"
   ]
  },
  {
   "cell_type": "code",
   "execution_count": 72,
   "metadata": {},
   "outputs": [
    {
     "data": {
      "text/plain": [
       "4"
      ]
     },
     "execution_count": 72,
     "metadata": {},
     "output_type": "execute_result"
    }
   ],
   "source": [
    "a=23412\n",
    "int(max(str(a)))"
   ]
  },
  {
   "cell_type": "code",
   "execution_count": 74,
   "metadata": {},
   "outputs": [
    {
     "data": {
      "text/plain": [
       "['P', 'y', 't', 'h', 'o', 'n']"
      ]
     },
     "execution_count": 74,
     "metadata": {},
     "output_type": "execute_result"
    }
   ],
   "source": [
    "#Input:\"Python\"\n",
    "#Ouput:['P','y','t','h','o','n']\n",
    "list(\"Python\")"
   ]
  },
  {
   "cell_type": "code",
   "execution_count": 2,
   "metadata": {},
   "outputs": [
    {
     "name": "stdout",
     "output_type": "stream",
     "text": [
      "enter a number:145\n",
      "strong\n"
     ]
    }
   ],
   "source": [
    "#strong number program\n",
    "def fact(n):\n",
    "    f=1\n",
    "    for i in range(2,n+1):\n",
    "        f*=i\n",
    "    return f\n",
    "def strong(n):\n",
    "    sum=0\n",
    "    for i in n:\n",
    "        sum+=fact(int(i))\n",
    "    if(sum==int(n)):\n",
    "        print(\"strong\")\n",
    "    else:\n",
    "        print(\"weak\")\n",
    "n=input(\"enter a number:\")\n",
    "strong(n)"
   ]
  },
  {
   "cell_type": "code",
   "execution_count": null,
   "metadata": {},
   "outputs": [],
   "source": []
  }
 ],
 "metadata": {
  "kernelspec": {
   "display_name": "Python 3",
   "language": "python",
   "name": "python3"
  },
  "language_info": {
   "codemirror_mode": {
    "name": "ipython",
    "version": 3
   },
   "file_extension": ".py",
   "mimetype": "text/x-python",
   "name": "python",
   "nbconvert_exporter": "python",
   "pygments_lexer": "ipython3",
   "version": "3.7.4"
  }
 },
 "nbformat": 4,
 "nbformat_minor": 2
}
